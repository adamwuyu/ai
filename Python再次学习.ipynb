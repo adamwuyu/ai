{
  "nbformat": 4,
  "nbformat_minor": 0,
  "metadata": {
    "colab": {
      "name": "Python再次学习.ipynb",
      "version": "0.3.2",
      "provenance": [],
      "collapsed_sections": [],
      "toc_visible": true,
      "include_colab_link": true
    },
    "kernelspec": {
      "name": "python3",
      "display_name": "Python 3"
    }
  },
  "cells": [
    {
      "cell_type": "markdown",
      "metadata": {
        "id": "view-in-github",
        "colab_type": "text"
      },
      "source": [
        "<a href=\"https://colab.research.google.com/github/adamwuyu/ai/blob/master/Python%E5%86%8D%E6%AC%A1%E5%AD%A6%E4%B9%A0.ipynb\" target=\"_parent\"><img src=\"https://colab.research.google.com/assets/colab-badge.svg\" alt=\"Open In Colab\"/></a>"
      ]
    },
    {
      "cell_type": "markdown",
      "metadata": {
        "id": "j2MfNIvhaKno",
        "colab_type": "text"
      },
      "source": [
        "##Python再次学习\n",
        "\n",
        "###本文的目的\n",
        "不同程序语言是有交集和并集的，本文适合于已经学过多们语言，对常用语言的交集已经非常熟悉的朋友。也适合已经学习过一遍Python基础的朋友。"
      ]
    },
    {
      "cell_type": "markdown",
      "metadata": {
        "id": "Hs3V-H1AnebX",
        "colab_type": "text"
      },
      "source": [
        "###Python历史\n",
        "1989年发明\n"
      ]
    },
    {
      "cell_type": "code",
      "metadata": {
        "id": "dLQVxOLQrg3N",
        "colab_type": "code",
        "colab": {
          "base_uri": "https://localhost:8080/",
          "height": 374
        },
        "outputId": "3e1783ce-16a7-4e26-b08a-95b55ecd85b5"
      },
      "source": [
        "import this"
      ],
      "execution_count": 13,
      "outputs": [
        {
          "output_type": "stream",
          "text": [
            "The Zen of Python, by Tim Peters\n",
            "\n",
            "Beautiful is better than ugly.\n",
            "Explicit is better than implicit.\n",
            "Simple is better than complex.\n",
            "Complex is better than complicated.\n",
            "Flat is better than nested.\n",
            "Sparse is better than dense.\n",
            "Readability counts.\n",
            "Special cases aren't special enough to break the rules.\n",
            "Although practicality beats purity.\n",
            "Errors should never pass silently.\n",
            "Unless explicitly silenced.\n",
            "In the face of ambiguity, refuse the temptation to guess.\n",
            "There should be one-- and preferably only one --obvious way to do it.\n",
            "Although that way may not be obvious at first unless you're Dutch.\n",
            "Now is better than never.\n",
            "Although never is often better than *right* now.\n",
            "If the implementation is hard to explain, it's a bad idea.\n",
            "If the implementation is easy to explain, it may be a good idea.\n",
            "Namespaces are one honking great idea -- let's do more of those!\n"
          ],
          "name": "stdout"
        }
      ]
    },
    {
      "cell_type": "markdown",
      "metadata": {
        "id": "orptWCPgq5Q1",
        "colab_type": "text"
      },
      "source": [
        "###对象\n",
        "Python跟JavaScript一样，一切皆对象"
      ]
    },
    {
      "cell_type": "markdown",
      "metadata": {
        "id": "fVx7y0CZn6UC",
        "colab_type": "text"
      },
      "source": [
        "###Python常量与变量\n",
        "常量：Python没有常量，1.自己定义一个模块来实现常量功能；2. 存到元组；3. 用「CONST_NAME」这种命名方式来提醒不要修改\n",
        "\n",
        "字符串（string）：，类型转换时用str()，可当作数组一样读，但不能当做数组一样写\n",
        "\n",
        "整型（int）：类型转换时用int()，有个不常用的函数bit_length()-得到一个数如果用二进制来表示的话，需要的位数\n",
        "\n",
        "长整型（long）：最大值 287665l，不能使用long()\n",
        "\n",
        "浮点（float）：\n",
        "\n",
        "复数\n",
        "\n",
        "布尔：True, False-首字母大写！\n",
        "\n",
        "元组（tuple）：(‘天’,’地’,’人’) 不可修改\n",
        "\n",
        "列表（list）：[‘天’,’地’,’人’]，类似于array，但可以包含不同类型的元素，可以使用负整数作为指针(-len到len-1)，[::-1]逆序排列子\n",
        "\n",
        "元素（不影响孙元素）\n",
        "\n",
        "字典（dict）：{‘天’:’高',’地’:’厚',’人’:'精’}，读写时使用[]\n",
        "\n",
        "集合（set）：a=set(‘abcdefsdfs’)  b=set(a)，则a、b中均无重复元素，集合可以求和 a | b，求差 a-b，集合元素无顺序\n",
        "\n",
        "文档字符串：三重单引号或三重双引号包围，可以赋值给变量，可以作为函数的help注释，len时换行算作一个字符\n",
        "\n",
        "获得类型：type()\n",
        "\n",
        "变量名：变量名只能以字母或下划线开头，不能使用保留关键词\n",
        "\n",
        "不同进制数字：8进制-0o177，16进制0xffff，二进制-0b110011"
      ]
    },
    {
      "cell_type": "code",
      "metadata": {
        "id": "qRxiFpRfnP_Z",
        "colab_type": "code",
        "colab": {
          "base_uri": "https://localhost:8080/",
          "height": 68
        },
        "outputId": "a3eaba37-7e10-4776-c463-1d9b15c9fb99"
      },
      "source": [
        "a, b, c=0o11, 0xf, 0b11\n",
        "print(a,b,c)\n",
        "\n",
        "x=5\n",
        "print(x.bit_length())       #得到一个数如果用二进制来表示的话，需要的位数\n",
        "\n",
        "y=0.125\n",
        "print(y.as_integer_ratio()) #浮点数-》分子、分母"
      ],
      "execution_count": 91,
      "outputs": [
        {
          "output_type": "stream",
          "text": [
            "9 15 3\n",
            "3\n",
            "(1, 8)\n"
          ],
          "name": "stdout"
        }
      ]
    },
    {
      "cell_type": "code",
      "metadata": {
        "id": "EP6w9oTf7uL_",
        "colab_type": "code",
        "colab": {
          "base_uri": "https://localhost:8080/",
          "height": 85
        },
        "outputId": "ca2733b6-4abf-4a89-f51e-3e01b6ae9358"
      },
      "source": [
        "print(bool(1)) # all numbers are treated as true, except 0\n",
        "print(bool(0))\n",
        "print(bool(\"asf\")) # all strings are treated as true, except the empty string \"\"\n",
        "print(bool(\"\"))\n",
        "# Generally empty sequences (strings, lists, and other types we've yet to see like lists and tuples)\n",
        "# are \"falsey\" and the rest are \"truthy\""
      ],
      "execution_count": 77,
      "outputs": [
        {
          "output_type": "stream",
          "text": [
            "True\n",
            "False\n",
            "True\n",
            "False\n"
          ],
          "name": "stdout"
        }
      ]
    },
    {
      "cell_type": "markdown",
      "metadata": {
        "id": "ViUkJ0Zv-To9",
        "colab_type": "text"
      },
      "source": [
        "###数组\n",
        "常用函数：len，sorted，sum, max, min，append，pop，index，in"
      ]
    },
    {
      "cell_type": "code",
      "metadata": {
        "id": "fIlHoK1a-nOa",
        "colab_type": "code",
        "colab": {}
      },
      "source": [
        "a = [1,9,1,8,0]\n",
        "print(len(a),sorted(a),sum(a),max(a),min(a))\n",
        "a.append(2)\n",
        "print(a)\n",
        "b=a.pop()\n",
        "print(a,b)\n",
        "print(a.index(1))\n",
        "print(1 in a)"
      ],
      "execution_count": 0,
      "outputs": []
    },
    {
      "cell_type": "markdown",
      "metadata": {
        "id": "R-cn1YJReWd8",
        "colab_type": "text"
      },
      "source": [
        "list comprehension"
      ]
    },
    {
      "cell_type": "code",
      "metadata": {
        "id": "bnO4Y-w6ecI3",
        "colab_type": "code",
        "colab": {
          "base_uri": "https://localhost:8080/",
          "height": 85
        },
        "outputId": "f29c759b-40fe-47f6-c272-b40c484d001f"
      },
      "source": [
        "print([n**2 for n in range(10) if n%2==0])\n",
        "print(len([n for n in range(10) if n%2==0]))\n",
        "print(sum([n for n in range(10) if n%2==0]))\n",
        "print('👏'.join([a.upper() for a in 'Hello']))"
      ],
      "execution_count": 9,
      "outputs": [
        {
          "output_type": "stream",
          "text": [
            "[0, 4, 16, 36, 64]\n",
            "5\n",
            "20\n",
            "H👏E👏L👏L👏O\n"
          ],
          "name": "stdout"
        }
      ]
    },
    {
      "cell_type": "markdown",
      "metadata": {
        "id": "-xTck_vCpjlh",
        "colab_type": "text"
      },
      "source": [
        "###运算\n",
        "Python2: 整数／整数＝整数，所以3/2=1 =>  3/2.0=1.5, 3/float(2)=1.5, 另外：3//2.0=1.0\n",
        "\n",
        "Python3: 3/2=1.5，3//2=1，3//2.0=1.0\n",
        "\n",
        "and运算优先级高于or"
      ]
    },
    {
      "cell_type": "code",
      "metadata": {
        "id": "C_ckhl-WpphB",
        "colab_type": "code",
        "colab": {
          "base_uri": "https://localhost:8080/",
          "height": 85
        },
        "outputId": "87661155-2b5a-4784-af33-ac6661d0c945"
      },
      "source": [
        "print(3/2,3//2,3//2.0)          #1.5 1 1.0\n",
        "print(True or True and False)   #True\n",
        "print(3.0 == 3)                 #True\n",
        "print('3' == 3)                 #False"
      ],
      "execution_count": 76,
      "outputs": [
        {
          "output_type": "stream",
          "text": [
            "1.5 1 1.0\n",
            "True\n",
            "True\n",
            "False\n"
          ],
          "name": "stdout"
        }
      ]
    },
    {
      "cell_type": "markdown",
      "metadata": {
        "id": "_VynnNo2qZNx",
        "colab_type": "text"
      },
      "source": [
        "###注释\n",
        "‘#’作为单行注释\n",
        "\n",
        "''' '''和\"\"\" \"\"\"作为多行注释\n",
        "\n",
        "py文件开头的encoding声明 # -*- coding: utf-8 -*-\n"
      ]
    },
    {
      "cell_type": "markdown",
      "metadata": {
        "id": "WJvu-uLpryeA",
        "colab_type": "text"
      },
      "source": [
        "###循环\n",
        "对任意维list、tuple、set、dict（第一个指针是index）：\n",
        "\n",
        "for name in names:\n",
        "\n",
        "    print(name)\n",
        "    \n",
        "对所有子元素len=2的list、tuple、set、dict：\n",
        "\n",
        "for index, item in myList:\n",
        "\n",
        "    Print(index, item)\n",
        "    \n",
        "while\n"
      ]
    },
    {
      "cell_type": "code",
      "metadata": {
        "id": "NSY_Sy0sr3nZ",
        "colab_type": "code",
        "colab": {}
      },
      "source": [
        "a=[[[1,2],[3,4]],[[3,4],True]]\n",
        "b=(1,2)\n",
        "c=set('12333')\n",
        "d={'a':'aa','b':'bb'}\n",
        "e = [1,2,3]\n",
        "\n",
        "for m in a:         #a换成b、c、d、e均可\n",
        "    print(m)\n",
        "\n",
        "for j,k in a:       #a换成b、c、d、e均会报错\n",
        "    print(j,k)"
      ],
      "execution_count": 0,
      "outputs": []
    },
    {
      "cell_type": "markdown",
      "metadata": {
        "id": "yJ38YeOitKmQ",
        "colab_type": "text"
      },
      "source": [
        "###转义符\n",
        "\\n 换行\n",
        "\n",
        "\\r 回车\n",
        "\n",
        "\\f 换页\n",
        "\n",
        "\\t  tab\n",
        "\n",
        "\\” 双引号\n",
        "\n",
        "\\’ 单引号\n",
        "\n",
        "\\\\ 反斜杠\n",
        "\n",
        "\\a 响铃(命令行、colab、PyCharm里均不响...)\n",
        "\n",
        "\\b 退格(Backspace)\n",
        "\n",
        "\\(在行尾时)\t续行符\n",
        "\n",
        "\\e\t转义\n",
        "\n",
        "\\000\t空\n",
        "\n",
        "\\v\t纵向制表符\n",
        "\n",
        "\\t\t横向制表符\n",
        "\n",
        "\\oyy\t八进制数yy代表的字符，例如：\\o12代表换行\n",
        "\n",
        "\\xyy\t十进制数yy代表的字符，例如：\\x0a代表换行\n",
        "\n",
        "\\other\t其它的字符以普通格式输出\n",
        "\n",
        "\n",
        "也可以使用raw string，比如：”C:\\\\new_folder”等效于r”C:\\\\new_folder”，\n",
        "但是r”C:\\\\new_folder\\”会报错，需要写成r”C:\\\\new_folder\\\"\"\n"
      ]
    },
    {
      "cell_type": "code",
      "metadata": {
        "id": "IiA4SK_WtS7u",
        "colab_type": "code",
        "colab": {
          "base_uri": "https://localhost:8080/",
          "height": 85
        },
        "outputId": "cc1a8315-a106-4154-b294-ae69c638dd9c"
      },
      "source": [
        "print('123\\\n",
        "456')\n",
        "# print(r\"C:\\new_folder\\\") #错误\n",
        "print(r\"C:\\new_folder\\\"\")\n",
        "print(\"C:\\new_folder\\\"\")"
      ],
      "execution_count": 34,
      "outputs": [
        {
          "output_type": "stream",
          "text": [
            "123456\n",
            "C:\\new_folder\\\"\n",
            "C:\n",
            "ew_folder\"\n"
          ],
          "name": "stdout"
        }
      ]
    },
    {
      "cell_type": "markdown",
      "metadata": {
        "id": "B9Thxw-Yv7_O",
        "colab_type": "text"
      },
      "source": [
        "###字符串\n"
      ]
    },
    {
      "cell_type": "code",
      "metadata": {
        "id": "9SbfeRlEv_ro",
        "colab_type": "code",
        "colab": {
          "base_uri": "https://localhost:8080/",
          "height": 510
        },
        "outputId": "17cef0e9-7290-4c7d-ee84-8916fd813526"
      },
      "source": [
        "print(\"-\"*50)\n",
        "\n",
        "myStr=\"ab cd\"\n",
        "\n",
        "print(\"ell\" in myStr)            #True or False\n",
        "print(myStr.split(\" \"))          #['ab', 'cd']\n",
        "print(myStr[-1])                 #d\n",
        "print(myStr[0:2])                #ab\n",
        "print(myStr[:2])                 #ab\n",
        "print(myStr[3:])                 #cd\n",
        "print(myStr[:-1])                #ab c\n",
        "print(myStr[:])                  #ab cd\n",
        "print(myStr[::-1])               #dc ba 逆序排列所有字符\n",
        "print(myStr.replace('ab','12'))  #12 cd\n",
        "print(len(myStr))                #5\n",
        "\n",
        "print(myStr.upper())             #AB CD\n",
        "print(myStr.find('cd'))          #3\n",
        "print(myStr.find('x'))           #-1\n",
        "print(myStr.upper().isupper())   #True\n",
        "print(myStr.startswith('ab'))    #True\n",
        "print(myStr.startswith('cd'))    #True\n",
        "\n",
        "print('123'.isdigit())           #True\n",
        "print('123abc'.isdigit())        #False\n",
        "print('abc'.zfill(6))            #000abc\n",
        "print('abc'.rjust(6))            #   abc\n",
        "\n",
        "\n",
        "\n",
        "\n",
        "print('--- translate ---')\n",
        "trantab = str.maketrans(\"aeiou\", \"12345\")\n",
        "myStr = \"this is string example....wow!!!\"\n",
        "print (myStr.translate(trantab))\n",
        "\n",
        "print('--- loop ---')\n",
        "for c in 'abc':\n",
        "    print(c)"
      ],
      "execution_count": 5,
      "outputs": [
        {
          "output_type": "stream",
          "text": [
            "--------------------------------------------------\n",
            "False\n",
            "['ab', 'cd']\n",
            "d\n",
            "ab\n",
            "ab\n",
            "cd\n",
            "ab c\n",
            "ab cd\n",
            "dc ba\n",
            "12 cd\n",
            "5\n",
            "AB CD\n",
            "3\n",
            "-1\n",
            "True\n",
            "True\n",
            "False\n",
            "A 👏 B 👏   👏 C 👏 D\n",
            "True\n",
            "False\n",
            "000abc\n",
            "   abc\n",
            "--- translate ---\n",
            "th3s 3s str3ng 2x1mpl2....w4w!!!\n",
            "--- loop ---\n",
            "a\n",
            "b\n",
            "c\n"
          ],
          "name": "stdout"
        }
      ]
    },
    {
      "cell_type": "markdown",
      "metadata": {
        "id": "RlPITWAx2KuP",
        "colab_type": "text"
      },
      "source": [
        "###函数\n",
        "可以把函数当作参数"
      ]
    },
    {
      "cell_type": "code",
      "metadata": {
        "id": "PEDjB5un2QL3",
        "colab_type": "code",
        "colab": {
          "base_uri": "https://localhost:8080/",
          "height": 51
        },
        "outputId": "432484a2-48f9-4657-df11-1c3e237763b1"
      },
      "source": [
        "def mod_3(x):\n",
        "    return x%3\n",
        "print(max(1,2,3,4,key=mod_3))    #output:2\n",
        "print(max([1,2,3,4],key=mod_3))  #output:2"
      ],
      "execution_count": 60,
      "outputs": [
        {
          "output_type": "stream",
          "text": [
            "2\n",
            "2\n"
          ],
          "name": "stdout"
        }
      ]
    },
    {
      "cell_type": "markdown",
      "metadata": {
        "id": "_U-dPyT92cr4",
        "colab_type": "text"
      },
      "source": [
        "###逻辑行\n",
        "多行字符串用“”“ ”“”包围，或用\\连接"
      ]
    },
    {
      "cell_type": "code",
      "metadata": {
        "id": "do2s4irl2lDV",
        "colab_type": "code",
        "colab": {}
      },
      "source": [
        "print(\"\"\"abc\n",
        "def\"\"\")\n",
        "print(\"abc\\\n",
        "def\")"
      ],
      "execution_count": 0,
      "outputs": []
    },
    {
      "cell_type": "markdown",
      "metadata": {
        "id": "0gdtvjw23Aqp",
        "colab_type": "text"
      },
      "source": [
        "###pickle 腌制\n",
        "pickle可方便地把变量序列化后保存到内存，然后反序列化输出（有意义么？）。也可以直接储存到文件，需要的时候再读出来，nice！\n"
      ]
    },
    {
      "cell_type": "code",
      "metadata": {
        "id": "mn6DH-Nb3MSl",
        "colab_type": "code",
        "colab": {
          "base_uri": "https://localhost:8080/",
          "height": 85
        },
        "outputId": "5d2ed045-c021-4055-c9ac-e287f1f39919"
      },
      "source": [
        "# -*- coding: utf-8 -*-\n",
        "import pickle\n",
        "#储存到内存\n",
        "lista = ['天','地','人']\n",
        "listb = pickle.dumps(lista);\n",
        "listc = pickle.loads(listb);\n",
        "print(listc);\n",
        "print(listc[0]);\n",
        "\n",
        "#储存到文件\n",
        "list1 = ['天','地','人']\n",
        "pickle.dump(lista,open('./1.pk1','wb'));\n",
        "list2 = pickle.load(open('./1.pk1','rb'));\n",
        "print(list2)\n",
        "print(list2[0])"
      ],
      "execution_count": 68,
      "outputs": [
        {
          "output_type": "stream",
          "text": [
            "['天', '地', '人']\n",
            "天\n",
            "['天', '地', '人']\n",
            "天\n"
          ],
          "name": "stdout"
        }
      ]
    },
    {
      "cell_type": "code",
      "metadata": {
        "id": "Qm3aHZez4Fke",
        "colab_type": "code",
        "colab": {}
      },
      "source": [
        "# -*- coding:utf-8 -*-\n",
        "import time\n",
        "import os\n",
        "import sys\n",
        "import poplib\n",
        "import smtplib\n",
        "from email.header import decode_header\n",
        "from email.mime.text import MIMEText\n",
        "import email\n",
        "smtp_server='smtp.sina.com'\n",
        "pop_server='pop.sina.com'\n",
        "account='adam_wu_yu@sina.com'\n",
        "pwd='密码密码密码'\n",
        "def sendMail(title):\n",
        "    sent=smtplib.SMTP(smtp_server)\n",
        "    sent.login(account,pwd)\n",
        "    to=[account]\n",
        "    content = MIMEText('')\n",
        "    content['subject']=title\n",
        "    content['To']=','.join(to)\n",
        "    sent.sendmail(account,to,content.as_string())\n",
        "    sent.close()\n",
        "def read():\n",
        "    read = poplib.POP3(pop_server)\n",
        "    read.user(account)\n",
        "    read.pass_(pwd)\n",
        "    tongji=read.stat()\n",
        "    str = read.top(tongji[0],0)\n",
        "    str2=[]\n",
        "    for x in str[1]:\n",
        "        try:\n",
        "            str2.append(x.decode())\n",
        "        except:\n",
        "            try:\n",
        "                str2.append(x.decode('gbk'))\n",
        "            except:\n",
        "                str2.append((xdecode('big5')))\n",
        "    msg=email.message_from_string('\\n'.join(str2))\n",
        "    biaoti = decode_header(msg['subject'])\n",
        "    print(biaoti[0][0])\n"
      ],
      "execution_count": 0,
      "outputs": []
    },
    {
      "cell_type": "markdown",
      "metadata": {
        "id": "4NdPQyvQhHTS",
        "colab_type": "text"
      },
      "source": [
        "###引用外部库\n",
        "import a\n",
        "\n",
        "from a import b\n",
        "\n",
        "from a import * #慎用，可能导致命名空间污染"
      ]
    },
    {
      "cell_type": "markdown",
      "metadata": {
        "id": "TMuJzXxo5Pnt",
        "colab_type": "text"
      },
      "source": [
        "###帮助"
      ]
    },
    {
      "cell_type": "code",
      "metadata": {
        "id": "AYDbSzJ65URJ",
        "colab_type": "code",
        "colab": {
          "base_uri": "https://localhost:8080/",
          "height": 731
        },
        "outputId": "ddf56ea8-a1d3-4764-dea1-fbef91e5334d"
      },
      "source": [
        "print(type(print))\n",
        "help(print)\n",
        "dir(print)"
      ],
      "execution_count": 74,
      "outputs": [
        {
          "output_type": "stream",
          "text": [
            "<class 'builtin_function_or_method'>\n",
            "Help on built-in function print in module builtins:\n",
            "\n",
            "print(...)\n",
            "    print(value, ..., sep=' ', end='\\n', file=sys.stdout, flush=False)\n",
            "    \n",
            "    Prints the values to a stream, or to sys.stdout by default.\n",
            "    Optional keyword arguments:\n",
            "    file:  a file-like object (stream); defaults to the current sys.stdout.\n",
            "    sep:   string inserted between values, default a space.\n",
            "    end:   string appended after the last value, default a newline.\n",
            "    flush: whether to forcibly flush the stream.\n",
            "\n"
          ],
          "name": "stdout"
        },
        {
          "output_type": "execute_result",
          "data": {
            "text/plain": [
              "['__call__',\n",
              " '__class__',\n",
              " '__delattr__',\n",
              " '__dir__',\n",
              " '__doc__',\n",
              " '__eq__',\n",
              " '__format__',\n",
              " '__ge__',\n",
              " '__getattribute__',\n",
              " '__gt__',\n",
              " '__hash__',\n",
              " '__init__',\n",
              " '__init_subclass__',\n",
              " '__le__',\n",
              " '__lt__',\n",
              " '__module__',\n",
              " '__name__',\n",
              " '__ne__',\n",
              " '__new__',\n",
              " '__qualname__',\n",
              " '__reduce__',\n",
              " '__reduce_ex__',\n",
              " '__repr__',\n",
              " '__self__',\n",
              " '__setattr__',\n",
              " '__sizeof__',\n",
              " '__str__',\n",
              " '__subclasshook__',\n",
              " '__text_signature__']"
            ]
          },
          "metadata": {
            "tags": []
          },
          "execution_count": 74
        }
      ]
    }
  ]
}